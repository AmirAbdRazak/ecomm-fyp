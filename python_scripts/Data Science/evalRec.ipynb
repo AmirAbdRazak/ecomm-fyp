{
 "cells": [
  {
   "cell_type": "code",
   "execution_count": 3,
   "metadata": {},
   "outputs": [],
   "source": [
    "import pandas as pd\n",
    "import numpy as np"
   ]
  },
  {
   "cell_type": "code",
   "execution_count": 4,
   "metadata": {},
   "outputs": [],
   "source": [
    "sales = pd.read_json(\"../../../../DataspellProjects/reviews_Electronics_5.json\", lines=True)"
   ]
  },
  {
   "cell_type": "code",
   "execution_count": 5,
   "metadata": {},
   "outputs": [],
   "source": [
    "sales = sales[['reviewerID', 'asin', 'overall']]"
   ]
  },
  {
   "cell_type": "code",
   "execution_count": 6,
   "metadata": {},
   "outputs": [],
   "source": [
    "asin_sales = sales.groupby(by=['asin'], dropna=False).count()\n",
    "asin_sales = asin_sales[asin_sales.apply(lambda x: x > 500)].dropna().drop('overall', axis=1).rename(columns = {'reviewerID': 'review_count'})"
   ]
  },
  {
   "cell_type": "code",
   "execution_count": 7,
   "metadata": {},
   "outputs": [],
   "source": [
    "sales = sales.assign(over500=sales.asin.isin(asin_sales.index).astype(str))"
   ]
  },
  {
   "cell_type": "code",
   "execution_count": 8,
   "metadata": {},
   "outputs": [],
   "source": [
    "sales = sales[sales['over500'] == \"True\"].drop('over500', axis = 1)"
   ]
  },
  {
   "cell_type": "code",
   "execution_count": 9,
   "metadata": {},
   "outputs": [],
   "source": [
    "from sklearn.model_selection import train_test_split\n",
    "train_sales, test_sales = train_test_split(sales, test_size=0.25)"
   ]
  },
  {
   "cell_type": "code",
   "execution_count": 10,
   "metadata": {},
   "outputs": [],
   "source": [
    "train_sales_pivot = train_sales.pivot_table(index='reviewerID', columns='asin', values='overall', fill_value=0)"
   ]
  },
  {
   "cell_type": "code",
   "execution_count": 11,
   "metadata": {},
   "outputs": [],
   "source": [
    "X = train_sales_pivot.T\n",
    "X_index = X.index"
   ]
  },
  {
   "cell_type": "code",
   "execution_count": 12,
   "metadata": {},
   "outputs": [
    {
     "data": {
      "text/plain": [
       "(95708, 226)"
      ]
     },
     "execution_count": 12,
     "metadata": {},
     "output_type": "execute_result"
    }
   ],
   "source": [
    "train_sales_pivot.shape"
   ]
  },
  {
   "cell_type": "code",
   "execution_count": 13,
   "metadata": {},
   "outputs": [],
   "source": [
    "corr = pd.read_csv(\"../../../../DataspellProjects/FYP/RevisedCorr.csv\", index_col=0)"
   ]
  },
  {
   "cell_type": "code",
   "execution_count": 14,
   "metadata": {},
   "outputs": [
    {
     "data": {
      "text/html": [
       "<div>\n",
       "<style scoped>\n",
       "    .dataframe tbody tr th:only-of-type {\n",
       "        vertical-align: middle;\n",
       "    }\n",
       "\n",
       "    .dataframe tbody tr th {\n",
       "        vertical-align: top;\n",
       "    }\n",
       "\n",
       "    .dataframe thead th {\n",
       "        text-align: right;\n",
       "    }\n",
       "</style>\n",
       "<table border=\"1\" class=\"dataframe\">\n",
       "  <thead>\n",
       "    <tr style=\"text-align: right;\">\n",
       "      <th></th>\n",
       "      <th>B00004T8R2</th>\n",
       "      <th>B00004ZCJE</th>\n",
       "      <th>B00005T3G0</th>\n",
       "      <th>B00006RVPW</th>\n",
       "      <th>B00007E7JU</th>\n",
       "      <th>B00007EDZG</th>\n",
       "      <th>B00007M1TZ</th>\n",
       "      <th>B00009R6TA</th>\n",
       "      <th>B0000BZL1P</th>\n",
       "      <th>B00017LSPI</th>\n",
       "      <th>...</th>\n",
       "      <th>B00BGGDVOO</th>\n",
       "      <th>B00BQ4F9ZA</th>\n",
       "      <th>B00BT7RAPG</th>\n",
       "      <th>B00BWF5U0M</th>\n",
       "      <th>B00D5Q75RC</th>\n",
       "      <th>B00DR0PDNE</th>\n",
       "      <th>B00DVFLJDS</th>\n",
       "      <th>B00E055H5O</th>\n",
       "      <th>B00E3W15P0</th>\n",
       "      <th>B00GTGETFG</th>\n",
       "    </tr>\n",
       "    <tr>\n",
       "      <th>asin</th>\n",
       "      <th></th>\n",
       "      <th></th>\n",
       "      <th></th>\n",
       "      <th></th>\n",
       "      <th></th>\n",
       "      <th></th>\n",
       "      <th></th>\n",
       "      <th></th>\n",
       "      <th></th>\n",
       "      <th></th>\n",
       "      <th></th>\n",
       "      <th></th>\n",
       "      <th></th>\n",
       "      <th></th>\n",
       "      <th></th>\n",
       "      <th></th>\n",
       "      <th></th>\n",
       "      <th></th>\n",
       "      <th></th>\n",
       "      <th></th>\n",
       "      <th></th>\n",
       "    </tr>\n",
       "  </thead>\n",
       "  <tbody>\n",
       "    <tr>\n",
       "      <th>B00004T8R2</th>\n",
       "      <td>1.000000</td>\n",
       "      <td>-0.037205</td>\n",
       "      <td>0.273364</td>\n",
       "      <td>0.316396</td>\n",
       "      <td>-0.049178</td>\n",
       "      <td>0.125412</td>\n",
       "      <td>0.594257</td>\n",
       "      <td>0.077238</td>\n",
       "      <td>0.262085</td>\n",
       "      <td>0.233406</td>\n",
       "      <td>...</td>\n",
       "      <td>-0.032316</td>\n",
       "      <td>0.055327</td>\n",
       "      <td>0.433559</td>\n",
       "      <td>0.426263</td>\n",
       "      <td>0.199094</td>\n",
       "      <td>0.140641</td>\n",
       "      <td>0.184589</td>\n",
       "      <td>0.135814</td>\n",
       "      <td>0.150660</td>\n",
       "      <td>0.220754</td>\n",
       "    </tr>\n",
       "    <tr>\n",
       "      <th>B00004ZCJE</th>\n",
       "      <td>-0.037205</td>\n",
       "      <td>1.000000</td>\n",
       "      <td>-0.174312</td>\n",
       "      <td>-0.028199</td>\n",
       "      <td>0.095305</td>\n",
       "      <td>0.808419</td>\n",
       "      <td>0.073975</td>\n",
       "      <td>0.499657</td>\n",
       "      <td>0.369860</td>\n",
       "      <td>0.565390</td>\n",
       "      <td>...</td>\n",
       "      <td>-0.009444</td>\n",
       "      <td>0.083899</td>\n",
       "      <td>-0.061911</td>\n",
       "      <td>-0.026930</td>\n",
       "      <td>-0.059446</td>\n",
       "      <td>0.016587</td>\n",
       "      <td>-0.170191</td>\n",
       "      <td>0.050777</td>\n",
       "      <td>0.009165</td>\n",
       "      <td>-0.086188</td>\n",
       "    </tr>\n",
       "    <tr>\n",
       "      <th>B00005T3G0</th>\n",
       "      <td>0.273364</td>\n",
       "      <td>-0.174312</td>\n",
       "      <td>1.000000</td>\n",
       "      <td>0.231551</td>\n",
       "      <td>-0.023427</td>\n",
       "      <td>0.118387</td>\n",
       "      <td>0.134753</td>\n",
       "      <td>-0.020159</td>\n",
       "      <td>0.226419</td>\n",
       "      <td>0.223711</td>\n",
       "      <td>...</td>\n",
       "      <td>0.013847</td>\n",
       "      <td>0.146434</td>\n",
       "      <td>0.501032</td>\n",
       "      <td>0.338589</td>\n",
       "      <td>0.314345</td>\n",
       "      <td>0.074207</td>\n",
       "      <td>0.090018</td>\n",
       "      <td>0.326122</td>\n",
       "      <td>0.045167</td>\n",
       "      <td>0.087036</td>\n",
       "    </tr>\n",
       "    <tr>\n",
       "      <th>B00006RVPW</th>\n",
       "      <td>0.316396</td>\n",
       "      <td>-0.028199</td>\n",
       "      <td>0.231551</td>\n",
       "      <td>1.000000</td>\n",
       "      <td>-0.030959</td>\n",
       "      <td>0.211244</td>\n",
       "      <td>0.489592</td>\n",
       "      <td>0.109282</td>\n",
       "      <td>0.284682</td>\n",
       "      <td>0.158018</td>\n",
       "      <td>...</td>\n",
       "      <td>0.175352</td>\n",
       "      <td>0.476912</td>\n",
       "      <td>0.212479</td>\n",
       "      <td>0.431233</td>\n",
       "      <td>0.483357</td>\n",
       "      <td>0.182336</td>\n",
       "      <td>0.075778</td>\n",
       "      <td>0.282929</td>\n",
       "      <td>0.290836</td>\n",
       "      <td>0.468848</td>\n",
       "    </tr>\n",
       "    <tr>\n",
       "      <th>B00007E7JU</th>\n",
       "      <td>-0.049178</td>\n",
       "      <td>0.095305</td>\n",
       "      <td>-0.023427</td>\n",
       "      <td>-0.030959</td>\n",
       "      <td>1.000000</td>\n",
       "      <td>-0.024138</td>\n",
       "      <td>-0.055566</td>\n",
       "      <td>0.805229</td>\n",
       "      <td>0.291818</td>\n",
       "      <td>0.396591</td>\n",
       "      <td>...</td>\n",
       "      <td>-0.029004</td>\n",
       "      <td>0.040531</td>\n",
       "      <td>0.023080</td>\n",
       "      <td>-0.084880</td>\n",
       "      <td>0.135781</td>\n",
       "      <td>0.014933</td>\n",
       "      <td>0.120073</td>\n",
       "      <td>0.055848</td>\n",
       "      <td>0.058263</td>\n",
       "      <td>0.045545</td>\n",
       "    </tr>\n",
       "  </tbody>\n",
       "</table>\n",
       "<p>5 rows × 226 columns</p>\n",
       "</div>"
      ],
      "text/plain": [
       "            B00004T8R2  B00004ZCJE  B00005T3G0  B00006RVPW  B00007E7JU  \\\n",
       "asin                                                                     \n",
       "B00004T8R2    1.000000   -0.037205    0.273364    0.316396   -0.049178   \n",
       "B00004ZCJE   -0.037205    1.000000   -0.174312   -0.028199    0.095305   \n",
       "B00005T3G0    0.273364   -0.174312    1.000000    0.231551   -0.023427   \n",
       "B00006RVPW    0.316396   -0.028199    0.231551    1.000000   -0.030959   \n",
       "B00007E7JU   -0.049178    0.095305   -0.023427   -0.030959    1.000000   \n",
       "\n",
       "            B00007EDZG  B00007M1TZ  B00009R6TA  B0000BZL1P  B00017LSPI  ...  \\\n",
       "asin                                                                    ...   \n",
       "B00004T8R2    0.125412    0.594257    0.077238    0.262085    0.233406  ...   \n",
       "B00004ZCJE    0.808419    0.073975    0.499657    0.369860    0.565390  ...   \n",
       "B00005T3G0    0.118387    0.134753   -0.020159    0.226419    0.223711  ...   \n",
       "B00006RVPW    0.211244    0.489592    0.109282    0.284682    0.158018  ...   \n",
       "B00007E7JU   -0.024138   -0.055566    0.805229    0.291818    0.396591  ...   \n",
       "\n",
       "            B00BGGDVOO  B00BQ4F9ZA  B00BT7RAPG  B00BWF5U0M  B00D5Q75RC  \\\n",
       "asin                                                                     \n",
       "B00004T8R2   -0.032316    0.055327    0.433559    0.426263    0.199094   \n",
       "B00004ZCJE   -0.009444    0.083899   -0.061911   -0.026930   -0.059446   \n",
       "B00005T3G0    0.013847    0.146434    0.501032    0.338589    0.314345   \n",
       "B00006RVPW    0.175352    0.476912    0.212479    0.431233    0.483357   \n",
       "B00007E7JU   -0.029004    0.040531    0.023080   -0.084880    0.135781   \n",
       "\n",
       "            B00DR0PDNE  B00DVFLJDS  B00E055H5O  B00E3W15P0  B00GTGETFG  \n",
       "asin                                                                    \n",
       "B00004T8R2    0.140641    0.184589    0.135814    0.150660    0.220754  \n",
       "B00004ZCJE    0.016587   -0.170191    0.050777    0.009165   -0.086188  \n",
       "B00005T3G0    0.074207    0.090018    0.326122    0.045167    0.087036  \n",
       "B00006RVPW    0.182336    0.075778    0.282929    0.290836    0.468848  \n",
       "B00007E7JU    0.014933    0.120073    0.055848    0.058263    0.045545  \n",
       "\n",
       "[5 rows x 226 columns]"
      ]
     },
     "execution_count": 14,
     "metadata": {},
     "output_type": "execute_result"
    }
   ],
   "source": [
    "corr.head()"
   ]
  },
  {
   "cell_type": "code",
   "execution_count": 15,
   "metadata": {},
   "outputs": [],
   "source": [
    "from sklearn.metrics.pairwise import pairwise_distances\n",
    "item_similarity = pairwise_distances(X, metric='cosine')"
   ]
  },
  {
   "cell_type": "code",
   "execution_count": 31,
   "metadata": {},
   "outputs": [],
   "source": [
    "def predict(ratings, corr):\n",
    "   rating \n",
    "    \n",
    "    return pos_ratings"
   ]
  },
  {
   "cell_type": "code",
   "execution_count": 32,
   "metadata": {},
   "outputs": [
    {
     "ename": "AttributeError",
     "evalue": "'_LocIndexer' object has no attribute 'to_frame'",
     "output_type": "error",
     "traceback": [
      "\u001b[1;31m---------------------------------------------------------------------------\u001b[0m",
      "\u001b[1;31mAttributeError\u001b[0m                            Traceback (most recent call last)",
      "Cell \u001b[1;32mIn[32], line 1\u001b[0m\n\u001b[1;32m----> 1\u001b[0m item_prediction \u001b[39m=\u001b[39m predict(train_sales_pivot, corr)\n",
      "Cell \u001b[1;32mIn[31], line 2\u001b[0m, in \u001b[0;36mpredict\u001b[1;34m(ratings, corr)\u001b[0m\n\u001b[0;32m      1\u001b[0m \u001b[39mdef\u001b[39;00m \u001b[39mpredict\u001b[39m(ratings, corr):\n\u001b[1;32m----> 2\u001b[0m     pos_ratings \u001b[39m=\u001b[39m ratings\u001b[39m.\u001b[39;49mne(\u001b[39m0\u001b[39;49m)\u001b[39m.\u001b[39;49mloc()\u001b[39m.\u001b[39;49mto_frame(\u001b[39m'\u001b[39m\u001b[39mpos\u001b[39m\u001b[39m'\u001b[39m)\u001b[39m.\u001b[39massign(val\u001b[39m=\u001b[39m\u001b[39mlambda\u001b[39;00m d: ratings\u001b[39m.\u001b[39mlookup(d\u001b[39m.\u001b[39mpos, d\u001b[39m.\u001b[39mindex))\n\u001b[0;32m      3\u001b[0m     \u001b[39mprint\u001b[39m(pos_ratings[\u001b[39m'\u001b[39m\u001b[39mpos\u001b[39m\u001b[39m'\u001b[39m])\n\u001b[0;32m      5\u001b[0m     \u001b[39mreturn\u001b[39;00m pos_ratings\n",
      "\u001b[1;31mAttributeError\u001b[0m: '_LocIndexer' object has no attribute 'to_frame'"
     ]
    }
   ],
   "source": [
    "item_prediction = predict(train_sales_pivot, corr)"
   ]
  },
  {
   "cell_type": "code",
   "execution_count": null,
   "metadata": {},
   "outputs": [
    {
     "data": {
      "text/html": [
       "<div>\n",
       "<style scoped>\n",
       "    .dataframe tbody tr th:only-of-type {\n",
       "        vertical-align: middle;\n",
       "    }\n",
       "\n",
       "    .dataframe tbody tr th {\n",
       "        vertical-align: top;\n",
       "    }\n",
       "\n",
       "    .dataframe thead th {\n",
       "        text-align: right;\n",
       "    }\n",
       "</style>\n",
       "<table border=\"1\" class=\"dataframe\">\n",
       "  <thead>\n",
       "    <tr style=\"text-align: right;\">\n",
       "      <th></th>\n",
       "      <th>pos</th>\n",
       "      <th>val</th>\n",
       "    </tr>\n",
       "    <tr>\n",
       "      <th>asin</th>\n",
       "      <th></th>\n",
       "      <th></th>\n",
       "    </tr>\n",
       "  </thead>\n",
       "  <tbody>\n",
       "    <tr>\n",
       "      <th>B00004T8R2</th>\n",
       "      <td>A10DKG2D2J845R</td>\n",
       "      <td>5.0</td>\n",
       "    </tr>\n",
       "  </tbody>\n",
       "</table>\n",
       "</div>"
      ],
      "text/plain": [
       "                       pos  val\n",
       "asin                           \n",
       "B00004T8R2  A10DKG2D2J845R  5.0"
      ]
     },
     "execution_count": 148,
     "metadata": {},
     "output_type": "execute_result"
    }
   ],
   "source": [
    "item_prediction[(item_prediction.index=='B00004T8R2')]"
   ]
  },
  {
   "cell_type": "code",
   "execution_count": null,
   "metadata": {},
   "outputs": [],
   "source": []
  }
 ],
 "metadata": {
  "kernelspec": {
   "display_name": "venv",
   "language": "python",
   "name": "python3"
  },
  "language_info": {
   "codemirror_mode": {
    "name": "ipython",
    "version": 3
   },
   "file_extension": ".py",
   "mimetype": "text/x-python",
   "name": "python",
   "nbconvert_exporter": "python",
   "pygments_lexer": "ipython3",
   "version": "3.10.9 (tags/v3.10.9:1dd9be6, Dec  6 2022, 20:01:21) [MSC v.1934 64 bit (AMD64)]"
  },
  "orig_nbformat": 4,
  "vscode": {
   "interpreter": {
    "hash": "bafa52a2ca4538b2e5b7ddb63b2c3e403ec4b30c482803790f709d489112f98c"
   }
  }
 },
 "nbformat": 4,
 "nbformat_minor": 2
}
